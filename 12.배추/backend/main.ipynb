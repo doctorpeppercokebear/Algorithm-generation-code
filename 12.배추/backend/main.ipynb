{
 "cells": [
  {
   "cell_type": "code",
   "execution_count": 1,
   "id": "ad2e73a5-bce9-491e-85bc-353a9f47ec20",
   "metadata": {},
   "outputs": [],
   "source": [
    "import pandas as pd\n",
    "import numpy as np"
   ]
  },
  {
   "cell_type": "code",
   "execution_count": 77,
   "id": "5048c860-7cd8-41a8-ae64-acf357927ad9",
   "metadata": {},
   "outputs": [],
   "source": [
    "gion = pd.read_csv('./기온.csv', header=7, encoding='euc-kr')"
   ]
  },
  {
   "cell_type": "code",
   "execution_count": 78,
   "id": "b96b276d-a66a-46ee-b174-c6bd76413155",
   "metadata": {},
   "outputs": [
    {
     "data": {
      "text/html": [
       "<div>\n",
       "<style scoped>\n",
       "    .dataframe tbody tr th:only-of-type {\n",
       "        vertical-align: middle;\n",
       "    }\n",
       "\n",
       "    .dataframe tbody tr th {\n",
       "        vertical-align: top;\n",
       "    }\n",
       "\n",
       "    .dataframe thead th {\n",
       "        text-align: right;\n",
       "    }\n",
       "</style>\n",
       "<table border=\"1\" class=\"dataframe\">\n",
       "  <thead>\n",
       "    <tr style=\"text-align: right;\">\n",
       "      <th></th>\n",
       "      <th>\\t\\t지점번호</th>\n",
       "      <th>지점명</th>\n",
       "      <th>일시</th>\n",
       "      <th>평균기온(℃)</th>\n",
       "      <th>최고기온(℃)</th>\n",
       "      <th>\\t최고기온시각</th>\n",
       "      <th>최저기온(℃)</th>\n",
       "      <th>최저기온시각일교차</th>\n",
       "    </tr>\n",
       "  </thead>\n",
       "  <tbody>\n",
       "    <tr>\n",
       "      <th>239</th>\n",
       "      <td>세종</td>\n",
       "      <td>2020-01-01</td>\n",
       "      <td>-1.6</td>\n",
       "      <td>4.0</td>\n",
       "      <td>14:01</td>\n",
       "      <td>-8.6</td>\n",
       "      <td>00:17</td>\n",
       "      <td>12.6</td>\n",
       "    </tr>\n",
       "    <tr>\n",
       "      <th>239</th>\n",
       "      <td>세종</td>\n",
       "      <td>2020-01-02</td>\n",
       "      <td>0.7</td>\n",
       "      <td>4.4</td>\n",
       "      <td>14:59</td>\n",
       "      <td>-3.1</td>\n",
       "      <td>06:48</td>\n",
       "      <td>7.5</td>\n",
       "    </tr>\n",
       "    <tr>\n",
       "      <th>239</th>\n",
       "      <td>세종</td>\n",
       "      <td>2020-01-03</td>\n",
       "      <td>1.3</td>\n",
       "      <td>6.5</td>\n",
       "      <td>13:52</td>\n",
       "      <td>-1.9</td>\n",
       "      <td>23:53</td>\n",
       "      <td>8.4</td>\n",
       "    </tr>\n",
       "    <tr>\n",
       "      <th>239</th>\n",
       "      <td>세종</td>\n",
       "      <td>2020-01-04</td>\n",
       "      <td>0.2</td>\n",
       "      <td>7.4</td>\n",
       "      <td>15:13</td>\n",
       "      <td>-4.6</td>\n",
       "      <td>06:39</td>\n",
       "      <td>12.0</td>\n",
       "    </tr>\n",
       "    <tr>\n",
       "      <th>239</th>\n",
       "      <td>세종</td>\n",
       "      <td>2020-01-05</td>\n",
       "      <td>0.6</td>\n",
       "      <td>6.5</td>\n",
       "      <td>13:51</td>\n",
       "      <td>-5.4</td>\n",
       "      <td>05:55</td>\n",
       "      <td>11.9</td>\n",
       "    </tr>\n",
       "  </tbody>\n",
       "</table>\n",
       "</div>"
      ],
      "text/plain": [
       "    \\t\\t지점번호         지점명   일시  평균기온(℃) 최고기온(℃)  \\t최고기온시각 최저기온(℃)  최저기온시각일교차\n",
       "239       세종  2020-01-01 -1.6      4.0   14:01      -8.6   00:17       12.6\n",
       "239       세종  2020-01-02  0.7      4.4   14:59      -3.1   06:48        7.5\n",
       "239       세종  2020-01-03  1.3      6.5   13:52      -1.9   23:53        8.4\n",
       "239       세종  2020-01-04  0.2      7.4   15:13      -4.6   06:39       12.0\n",
       "239       세종  2020-01-05  0.6      6.5   13:51      -5.4   05:55       11.9"
      ]
     },
     "execution_count": 78,
     "metadata": {},
     "output_type": "execute_result"
    }
   ],
   "source": [
    "gion.head()"
   ]
  },
  {
   "cell_type": "code",
   "execution_count": 79,
   "id": "5013367a-0d04-46cf-b8de-a39fc1d8f33f",
   "metadata": {},
   "outputs": [
    {
     "data": {
      "text/plain": [
       "Index(['\\t\\t지점번호', '지점명', '일시', '평균기온(℃)', '최고기온(℃)', '\\t최고기온시각', '최저기온(℃)',\n",
       "       '최저기온시각일교차'],\n",
       "      dtype='object')"
      ]
     },
     "execution_count": 79,
     "metadata": {},
     "output_type": "execute_result"
    }
   ],
   "source": [
    "gion.columns"
   ]
  },
  {
   "cell_type": "code",
   "execution_count": 80,
   "id": "c0814292-3816-492e-adf9-67dcb5c5a94d",
   "metadata": {},
   "outputs": [
    {
     "data": {
      "text/html": [
       "<div>\n",
       "<style scoped>\n",
       "    .dataframe tbody tr th:only-of-type {\n",
       "        vertical-align: middle;\n",
       "    }\n",
       "\n",
       "    .dataframe tbody tr th {\n",
       "        vertical-align: top;\n",
       "    }\n",
       "\n",
       "    .dataframe thead th {\n",
       "        text-align: right;\n",
       "    }\n",
       "</style>\n",
       "<table border=\"1\" class=\"dataframe\">\n",
       "  <thead>\n",
       "    <tr style=\"text-align: right;\">\n",
       "      <th></th>\n",
       "      <th>지점번호</th>\n",
       "      <th>지점명</th>\n",
       "      <th>일시</th>\n",
       "      <th>평균기온</th>\n",
       "      <th>최고기온</th>\n",
       "      <th>최고기온시각</th>\n",
       "      <th>최저기온</th>\n",
       "      <th>최저기온시각일교차</th>\n",
       "    </tr>\n",
       "  </thead>\n",
       "  <tbody>\n",
       "    <tr>\n",
       "      <th>239</th>\n",
       "      <td>세종</td>\n",
       "      <td>2020-01-01</td>\n",
       "      <td>-1.6</td>\n",
       "      <td>4.0</td>\n",
       "      <td>14:01</td>\n",
       "      <td>-8.6</td>\n",
       "      <td>00:17</td>\n",
       "      <td>12.6</td>\n",
       "    </tr>\n",
       "  </tbody>\n",
       "</table>\n",
       "</div>"
      ],
      "text/plain": [
       "    지점번호         지점명   일시  평균기온   최고기온  최고기온시각   최저기온  최저기온시각일교차\n",
       "239   세종  2020-01-01 -1.6   4.0  14:01    -8.6  00:17       12.6"
      ]
     },
     "execution_count": 80,
     "metadata": {},
     "output_type": "execute_result"
    }
   ],
   "source": [
    "gion.columns = ['지점번호', '지점명', '일시', '평균기온', '최고기온', '최고기온시각', '최저기온', '최저기온시각일교차']\n",
    "gion.head(1)"
   ]
  },
  {
   "cell_type": "code",
   "execution_count": 81,
   "id": "2c56919a-8e56-4624-8bd6-18f61ce9e09d",
   "metadata": {},
   "outputs": [
    {
     "data": {
      "text/html": [
       "<div>\n",
       "<style scoped>\n",
       "    .dataframe tbody tr th:only-of-type {\n",
       "        vertical-align: middle;\n",
       "    }\n",
       "\n",
       "    .dataframe tbody tr th {\n",
       "        vertical-align: top;\n",
       "    }\n",
       "\n",
       "    .dataframe thead th {\n",
       "        text-align: right;\n",
       "    }\n",
       "</style>\n",
       "<table border=\"1\" class=\"dataframe\">\n",
       "  <thead>\n",
       "    <tr style=\"text-align: right;\">\n",
       "      <th></th>\n",
       "      <th>일시</th>\n",
       "      <th>평균기온</th>\n",
       "    </tr>\n",
       "  </thead>\n",
       "  <tbody>\n",
       "    <tr>\n",
       "      <th>239</th>\n",
       "      <td>2020-01-01</td>\n",
       "      <td>-1.6</td>\n",
       "    </tr>\n",
       "    <tr>\n",
       "      <th>239</th>\n",
       "      <td>2020-01-02</td>\n",
       "      <td>0.7</td>\n",
       "    </tr>\n",
       "    <tr>\n",
       "      <th>239</th>\n",
       "      <td>2020-01-03</td>\n",
       "      <td>1.3</td>\n",
       "    </tr>\n",
       "    <tr>\n",
       "      <th>239</th>\n",
       "      <td>2020-01-04</td>\n",
       "      <td>0.2</td>\n",
       "    </tr>\n",
       "    <tr>\n",
       "      <th>239</th>\n",
       "      <td>2020-01-05</td>\n",
       "      <td>0.6</td>\n",
       "    </tr>\n",
       "  </tbody>\n",
       "</table>\n",
       "</div>"
      ],
      "text/plain": [
       "             일시  평균기온\n",
       "239  2020-01-01  -1.6\n",
       "239  2020-01-02   0.7\n",
       "239  2020-01-03   1.3\n",
       "239  2020-01-04   0.2\n",
       "239  2020-01-05   0.6"
      ]
     },
     "execution_count": 81,
     "metadata": {},
     "output_type": "execute_result"
    }
   ],
   "source": [
    "# 컬럼 이름이 오른쪽으로 하나씩 밀림!!! 그래서 \n",
    "# 지점명 => 일시 \n",
    "# 일시 => 평균기온\n",
    "gion = gion.drop(['지점번호', '평균기온', '최고기온', '최고기온시각', '최저기온', '최저기온시각일교차'], axis=1)\n",
    "gion.columns = ['일시', '평균기온']\n",
    "gion.head()"
   ]
  },
  {
   "cell_type": "code",
   "execution_count": 82,
   "id": "ef1b3c9b-3022-4539-9e34-0ea3b134f798",
   "metadata": {},
   "outputs": [
    {
     "name": "stdout",
     "output_type": "stream",
     "text": [
      "<class 'pandas.core.frame.DataFrame'>\n",
      "Int64Index: 1096 entries, 239 to 239\n",
      "Data columns (total 2 columns):\n",
      " #   Column  Non-Null Count  Dtype  \n",
      "---  ------  --------------  -----  \n",
      " 0   일시      1096 non-null   object \n",
      " 1   평균기온    1094 non-null   float64\n",
      "dtypes: float64(1), object(1)\n",
      "memory usage: 25.7+ KB\n"
     ]
    }
   ],
   "source": [
    "gion.info()"
   ]
  },
  {
   "cell_type": "code",
   "execution_count": null,
   "id": "e11e211f-ad5e-44a3-b287-8aa1209a4a18",
   "metadata": {},
   "outputs": [],
   "source": []
  },
  {
   "cell_type": "code",
   "execution_count": 15,
   "id": "bb7a55e1-983e-48fe-af70-7ed5f9563401",
   "metadata": {},
   "outputs": [],
   "source": [
    "sebdo = pd.read_csv('./습도.csv', header=7, encoding='euc-kr')"
   ]
  },
  {
   "cell_type": "code",
   "execution_count": 16,
   "id": "dc732f41-5974-4e96-b77e-7eb2dc2e3154",
   "metadata": {},
   "outputs": [
    {
     "data": {
      "text/html": [
       "<div>\n",
       "<style scoped>\n",
       "    .dataframe tbody tr th:only-of-type {\n",
       "        vertical-align: middle;\n",
       "    }\n",
       "\n",
       "    .dataframe tbody tr th {\n",
       "        vertical-align: top;\n",
       "    }\n",
       "\n",
       "    .dataframe thead th {\n",
       "        text-align: right;\n",
       "    }\n",
       "</style>\n",
       "<table border=\"1\" class=\"dataframe\">\n",
       "  <thead>\n",
       "    <tr style=\"text-align: right;\">\n",
       "      <th></th>\n",
       "      <th>\\t\\t지점번호</th>\n",
       "      <th>지점명</th>\n",
       "      <th>일시</th>\n",
       "      <th>평균습도(%rh)</th>\n",
       "      <th>최저습도(%rh)</th>\n",
       "    </tr>\n",
       "  </thead>\n",
       "  <tbody>\n",
       "    <tr>\n",
       "      <th>0</th>\n",
       "      <td>239</td>\n",
       "      <td>세종</td>\n",
       "      <td>2020-01-01</td>\n",
       "      <td>65.0</td>\n",
       "      <td>44.0</td>\n",
       "    </tr>\n",
       "    <tr>\n",
       "      <th>1</th>\n",
       "      <td>239</td>\n",
       "      <td>세종</td>\n",
       "      <td>2020-01-02</td>\n",
       "      <td>74.3</td>\n",
       "      <td>58.0</td>\n",
       "    </tr>\n",
       "    <tr>\n",
       "      <th>2</th>\n",
       "      <td>239</td>\n",
       "      <td>세종</td>\n",
       "      <td>2020-01-03</td>\n",
       "      <td>71.1</td>\n",
       "      <td>39.0</td>\n",
       "    </tr>\n",
       "    <tr>\n",
       "      <th>3</th>\n",
       "      <td>239</td>\n",
       "      <td>세종</td>\n",
       "      <td>2020-01-04</td>\n",
       "      <td>69.1</td>\n",
       "      <td>39.0</td>\n",
       "    </tr>\n",
       "    <tr>\n",
       "      <th>4</th>\n",
       "      <td>239</td>\n",
       "      <td>세종</td>\n",
       "      <td>2020-01-05</td>\n",
       "      <td>58.4</td>\n",
       "      <td>26.0</td>\n",
       "    </tr>\n",
       "  </tbody>\n",
       "</table>\n",
       "</div>"
      ],
      "text/plain": [
       "   \\t\\t지점번호 지점명          일시  평균습도(%rh)  최저습도(%rh)\n",
       "0       239  세종  2020-01-01       65.0       44.0\n",
       "1       239  세종  2020-01-02       74.3       58.0\n",
       "2       239  세종  2020-01-03       71.1       39.0\n",
       "3       239  세종  2020-01-04       69.1       39.0\n",
       "4       239  세종  2020-01-05       58.4       26.0"
      ]
     },
     "execution_count": 16,
     "metadata": {},
     "output_type": "execute_result"
    }
   ],
   "source": [
    "sebdo.head()"
   ]
  },
  {
   "cell_type": "code",
   "execution_count": 36,
   "id": "aa79e895-fba1-4b1f-9338-27b450833a64",
   "metadata": {},
   "outputs": [
    {
     "data": {
      "text/plain": [
       "Index(['\\t\\t지점번호', '지점명', '일시', '평균습도(%rh)', '최저습도(%rh)'], dtype='object')"
      ]
     },
     "execution_count": 36,
     "metadata": {},
     "output_type": "execute_result"
    }
   ],
   "source": [
    "sebdo.columns"
   ]
  },
  {
   "cell_type": "code",
   "execution_count": 39,
   "id": "ab2a580a-db02-46dd-a5ec-cc6f0005251e",
   "metadata": {},
   "outputs": [
    {
     "data": {
      "text/html": [
       "<div>\n",
       "<style scoped>\n",
       "    .dataframe tbody tr th:only-of-type {\n",
       "        vertical-align: middle;\n",
       "    }\n",
       "\n",
       "    .dataframe tbody tr th {\n",
       "        vertical-align: top;\n",
       "    }\n",
       "\n",
       "    .dataframe thead th {\n",
       "        text-align: right;\n",
       "    }\n",
       "</style>\n",
       "<table border=\"1\" class=\"dataframe\">\n",
       "  <thead>\n",
       "    <tr style=\"text-align: right;\">\n",
       "      <th></th>\n",
       "      <th>지점번호</th>\n",
       "      <th>지점명</th>\n",
       "      <th>일시</th>\n",
       "      <th>평균습도</th>\n",
       "      <th>최저습도</th>\n",
       "    </tr>\n",
       "  </thead>\n",
       "  <tbody>\n",
       "    <tr>\n",
       "      <th>0</th>\n",
       "      <td>239</td>\n",
       "      <td>세종</td>\n",
       "      <td>2020-01-01</td>\n",
       "      <td>65.0</td>\n",
       "      <td>44.0</td>\n",
       "    </tr>\n",
       "  </tbody>\n",
       "</table>\n",
       "</div>"
      ],
      "text/plain": [
       "   지점번호 지점명          일시  평균습도  최저습도\n",
       "0   239  세종  2020-01-01  65.0  44.0"
      ]
     },
     "execution_count": 39,
     "metadata": {},
     "output_type": "execute_result"
    }
   ],
   "source": [
    "sebdo.columns = ['지점번호', '지점명', '일시', '평균습도', '최저습도']\n",
    "sebdo.head(1)"
   ]
  },
  {
   "cell_type": "code",
   "execution_count": 41,
   "id": "18c96378-494f-46e7-9fe1-069f8fd80c9c",
   "metadata": {},
   "outputs": [
    {
     "data": {
      "text/html": [
       "<div>\n",
       "<style scoped>\n",
       "    .dataframe tbody tr th:only-of-type {\n",
       "        vertical-align: middle;\n",
       "    }\n",
       "\n",
       "    .dataframe tbody tr th {\n",
       "        vertical-align: top;\n",
       "    }\n",
       "\n",
       "    .dataframe thead th {\n",
       "        text-align: right;\n",
       "    }\n",
       "</style>\n",
       "<table border=\"1\" class=\"dataframe\">\n",
       "  <thead>\n",
       "    <tr style=\"text-align: right;\">\n",
       "      <th></th>\n",
       "      <th>일시</th>\n",
       "      <th>평균습도</th>\n",
       "    </tr>\n",
       "  </thead>\n",
       "  <tbody>\n",
       "    <tr>\n",
       "      <th>0</th>\n",
       "      <td>2020-01-01</td>\n",
       "      <td>65.0</td>\n",
       "    </tr>\n",
       "  </tbody>\n",
       "</table>\n",
       "</div>"
      ],
      "text/plain": [
       "           일시  평균습도\n",
       "0  2020-01-01  65.0"
      ]
     },
     "execution_count": 41,
     "metadata": {},
     "output_type": "execute_result"
    }
   ],
   "source": [
    "sebdo = sebdo.drop(['지점번호', '지점명', '최저습도'], axis=1)\n",
    "sebdo.head(1)"
   ]
  },
  {
   "cell_type": "code",
   "execution_count": 83,
   "id": "426558bd-18a1-40b8-9957-aa8f3f9a57a3",
   "metadata": {},
   "outputs": [
    {
     "name": "stdout",
     "output_type": "stream",
     "text": [
      "<class 'pandas.core.frame.DataFrame'>\n",
      "RangeIndex: 1096 entries, 0 to 1095\n",
      "Data columns (total 2 columns):\n",
      " #   Column  Non-Null Count  Dtype  \n",
      "---  ------  --------------  -----  \n",
      " 0   일시      1096 non-null   object \n",
      " 1   평균습도    1094 non-null   float64\n",
      "dtypes: float64(1), object(1)\n",
      "memory usage: 17.2+ KB\n"
     ]
    }
   ],
   "source": [
    "sebdo.info()"
   ]
  },
  {
   "cell_type": "code",
   "execution_count": 28,
   "id": "518f873b-d7b5-42e3-8e01-6a209b2fb39f",
   "metadata": {},
   "outputs": [],
   "source": [
    "baram = pd.read_csv('./바람.csv', header=7, encoding='euc-kr')"
   ]
  },
  {
   "cell_type": "code",
   "execution_count": 29,
   "id": "93da2980-fa19-458f-a1a1-ecb2cea947dc",
   "metadata": {},
   "outputs": [
    {
     "data": {
      "text/html": [
       "<div>\n",
       "<style scoped>\n",
       "    .dataframe tbody tr th:only-of-type {\n",
       "        vertical-align: middle;\n",
       "    }\n",
       "\n",
       "    .dataframe tbody tr th {\n",
       "        vertical-align: top;\n",
       "    }\n",
       "\n",
       "    .dataframe thead th {\n",
       "        text-align: right;\n",
       "    }\n",
       "</style>\n",
       "<table border=\"1\" class=\"dataframe\">\n",
       "  <thead>\n",
       "    <tr style=\"text-align: right;\">\n",
       "      <th></th>\n",
       "      <th>\\t\\t지점번호</th>\n",
       "      <th>지점명</th>\n",
       "      <th>일시</th>\n",
       "      <th>평균풍속(m/s)</th>\n",
       "      <th>최대풍속(m/s)</th>\n",
       "      <th>최대풍속풍향(deg)</th>\n",
       "      <th>\\t최대풍속시각</th>\n",
       "      <th>최대순간풍속(m/s)</th>\n",
       "      <th>최대순간풍속풍향(deg)</th>\n",
       "      <th>\\t최대순간풍속시각</th>\n",
       "    </tr>\n",
       "  </thead>\n",
       "  <tbody>\n",
       "    <tr>\n",
       "      <th>0</th>\n",
       "      <td>239</td>\n",
       "      <td>세종</td>\n",
       "      <td>2020-01-01</td>\n",
       "      <td>0.8</td>\n",
       "      <td>2.7</td>\n",
       "      <td>250</td>\n",
       "      <td>13:13</td>\n",
       "      <td>4.7</td>\n",
       "      <td>270</td>\n",
       "      <td>13:13</td>\n",
       "    </tr>\n",
       "    <tr>\n",
       "      <th>1</th>\n",
       "      <td>239</td>\n",
       "      <td>세종</td>\n",
       "      <td>2020-01-02</td>\n",
       "      <td>0.6</td>\n",
       "      <td>2.1</td>\n",
       "      <td>340</td>\n",
       "      <td>06:52</td>\n",
       "      <td>3.4</td>\n",
       "      <td>270</td>\n",
       "      <td>15:04</td>\n",
       "    </tr>\n",
       "    <tr>\n",
       "      <th>2</th>\n",
       "      <td>239</td>\n",
       "      <td>세종</td>\n",
       "      <td>2020-01-03</td>\n",
       "      <td>1.0</td>\n",
       "      <td>3.2</td>\n",
       "      <td>320</td>\n",
       "      <td>12:58</td>\n",
       "      <td>5.5</td>\n",
       "      <td>340</td>\n",
       "      <td>12:55</td>\n",
       "    </tr>\n",
       "    <tr>\n",
       "      <th>3</th>\n",
       "      <td>239</td>\n",
       "      <td>세종</td>\n",
       "      <td>2020-01-04</td>\n",
       "      <td>0.8</td>\n",
       "      <td>2.6</td>\n",
       "      <td>320</td>\n",
       "      <td>18:16</td>\n",
       "      <td>4.1</td>\n",
       "      <td>340</td>\n",
       "      <td>17:13</td>\n",
       "    </tr>\n",
       "    <tr>\n",
       "      <th>4</th>\n",
       "      <td>239</td>\n",
       "      <td>세종</td>\n",
       "      <td>2020-01-05</td>\n",
       "      <td>0.6</td>\n",
       "      <td>1.8</td>\n",
       "      <td>110</td>\n",
       "      <td>14:38</td>\n",
       "      <td>2.7</td>\n",
       "      <td>110</td>\n",
       "      <td>13:43</td>\n",
       "    </tr>\n",
       "  </tbody>\n",
       "</table>\n",
       "</div>"
      ],
      "text/plain": [
       "   \\t\\t지점번호 지점명          일시  평균풍속(m/s)  최대풍속(m/s)  최대풍속풍향(deg) \\t최대풍속시각  \\\n",
       "0       239  세종  2020-01-01        0.8        2.7          250    13:13   \n",
       "1       239  세종  2020-01-02        0.6        2.1          340    06:52   \n",
       "2       239  세종  2020-01-03        1.0        3.2          320    12:58   \n",
       "3       239  세종  2020-01-04        0.8        2.6          320    18:16   \n",
       "4       239  세종  2020-01-05        0.6        1.8          110    14:38   \n",
       "\n",
       "   최대순간풍속(m/s)  최대순간풍속풍향(deg) \\t최대순간풍속시각  \n",
       "0          4.7            270      13:13  \n",
       "1          3.4            270      15:04  \n",
       "2          5.5            340      12:55  \n",
       "3          4.1            340      17:13  \n",
       "4          2.7            110      13:43  "
      ]
     },
     "execution_count": 29,
     "metadata": {},
     "output_type": "execute_result"
    }
   ],
   "source": [
    "baram.head()"
   ]
  },
  {
   "cell_type": "code",
   "execution_count": 42,
   "id": "06bc539b-ee26-49bd-a89c-4c3d637b4856",
   "metadata": {},
   "outputs": [
    {
     "data": {
      "text/plain": [
       "Index(['\\t\\t지점번호', '지점명', '일시', '평균풍속(m/s)', '최대풍속(m/s)', '최대풍속풍향(deg)',\n",
       "       '\\t최대풍속시각', '최대순간풍속(m/s)', '최대순간풍속풍향(deg)', '\\t최대순간풍속시각'],\n",
       "      dtype='object')"
      ]
     },
     "execution_count": 42,
     "metadata": {},
     "output_type": "execute_result"
    }
   ],
   "source": [
    "baram.columns"
   ]
  },
  {
   "cell_type": "code",
   "execution_count": 43,
   "id": "520ee42e-e7fc-447d-8113-fdc56d0c5c1f",
   "metadata": {},
   "outputs": [
    {
     "data": {
      "text/html": [
       "<div>\n",
       "<style scoped>\n",
       "    .dataframe tbody tr th:only-of-type {\n",
       "        vertical-align: middle;\n",
       "    }\n",
       "\n",
       "    .dataframe tbody tr th {\n",
       "        vertical-align: top;\n",
       "    }\n",
       "\n",
       "    .dataframe thead th {\n",
       "        text-align: right;\n",
       "    }\n",
       "</style>\n",
       "<table border=\"1\" class=\"dataframe\">\n",
       "  <thead>\n",
       "    <tr style=\"text-align: right;\">\n",
       "      <th></th>\n",
       "      <th>지점번호</th>\n",
       "      <th>지점명</th>\n",
       "      <th>일시</th>\n",
       "      <th>평균풍속</th>\n",
       "      <th>최대풍속</th>\n",
       "      <th>최대풍속풍향</th>\n",
       "      <th>최대풍속시각</th>\n",
       "      <th>최대순간풍속</th>\n",
       "      <th>최대순간풍속풍향</th>\n",
       "      <th>최대순간풍속시각</th>\n",
       "    </tr>\n",
       "  </thead>\n",
       "  <tbody>\n",
       "    <tr>\n",
       "      <th>0</th>\n",
       "      <td>239</td>\n",
       "      <td>세종</td>\n",
       "      <td>2020-01-01</td>\n",
       "      <td>0.8</td>\n",
       "      <td>2.7</td>\n",
       "      <td>250</td>\n",
       "      <td>13:13</td>\n",
       "      <td>4.7</td>\n",
       "      <td>270</td>\n",
       "      <td>13:13</td>\n",
       "    </tr>\n",
       "  </tbody>\n",
       "</table>\n",
       "</div>"
      ],
      "text/plain": [
       "   지점번호 지점명          일시  평균풍속  최대풍속  최대풍속풍향 최대풍속시각  최대순간풍속  최대순간풍속풍향 최대순간풍속시각\n",
       "0   239  세종  2020-01-01   0.8   2.7     250  13:13     4.7       270    13:13"
      ]
     },
     "execution_count": 43,
     "metadata": {},
     "output_type": "execute_result"
    }
   ],
   "source": [
    "baram.columns = ['지점번호', '지점명', '일시', '평균풍속', '최대풍속', '최대풍속풍향',\n",
    "       '최대풍속시각', '최대순간풍속', '최대순간풍속풍향', '최대순간풍속시각']\n",
    "baram.head(1)"
   ]
  },
  {
   "cell_type": "code",
   "execution_count": 44,
   "id": "89c1896d-ccb3-4baf-85c3-7176883c780c",
   "metadata": {},
   "outputs": [
    {
     "data": {
      "text/html": [
       "<div>\n",
       "<style scoped>\n",
       "    .dataframe tbody tr th:only-of-type {\n",
       "        vertical-align: middle;\n",
       "    }\n",
       "\n",
       "    .dataframe tbody tr th {\n",
       "        vertical-align: top;\n",
       "    }\n",
       "\n",
       "    .dataframe thead th {\n",
       "        text-align: right;\n",
       "    }\n",
       "</style>\n",
       "<table border=\"1\" class=\"dataframe\">\n",
       "  <thead>\n",
       "    <tr style=\"text-align: right;\">\n",
       "      <th></th>\n",
       "      <th>일시</th>\n",
       "      <th>평균풍속</th>\n",
       "    </tr>\n",
       "  </thead>\n",
       "  <tbody>\n",
       "    <tr>\n",
       "      <th>0</th>\n",
       "      <td>2020-01-01</td>\n",
       "      <td>0.8</td>\n",
       "    </tr>\n",
       "  </tbody>\n",
       "</table>\n",
       "</div>"
      ],
      "text/plain": [
       "           일시  평균풍속\n",
       "0  2020-01-01   0.8"
      ]
     },
     "execution_count": 44,
     "metadata": {},
     "output_type": "execute_result"
    }
   ],
   "source": [
    "baram = baram.drop(['지점번호', '지점명', '최대풍속', '최대풍속풍향',\n",
    "       '최대풍속시각', '최대순간풍속', '최대순간풍속풍향', '최대순간풍속시각'], axis=1)\n",
    "baram.head(1)"
   ]
  },
  {
   "cell_type": "code",
   "execution_count": 84,
   "id": "5bcac3c9-a032-441f-bd34-030f60cf5ecb",
   "metadata": {},
   "outputs": [
    {
     "name": "stdout",
     "output_type": "stream",
     "text": [
      "<class 'pandas.core.frame.DataFrame'>\n",
      "RangeIndex: 1096 entries, 0 to 1095\n",
      "Data columns (total 2 columns):\n",
      " #   Column  Non-Null Count  Dtype  \n",
      "---  ------  --------------  -----  \n",
      " 0   일시      1096 non-null   object \n",
      " 1   평균풍속    1096 non-null   float64\n",
      "dtypes: float64(1), object(1)\n",
      "memory usage: 17.2+ KB\n"
     ]
    }
   ],
   "source": [
    "baram.info()"
   ]
  },
  {
   "cell_type": "code",
   "execution_count": 30,
   "id": "444fda5e-f03b-45c0-9abe-217909e40ef5",
   "metadata": {},
   "outputs": [],
   "source": [
    "gangsu = pd.read_csv('./강수량.csv', header=7, encoding='euc-kr')"
   ]
  },
  {
   "cell_type": "code",
   "execution_count": 31,
   "id": "0de249c0-de96-45b5-a968-a5199773e605",
   "metadata": {},
   "outputs": [
    {
     "data": {
      "text/html": [
       "<div>\n",
       "<style scoped>\n",
       "    .dataframe tbody tr th:only-of-type {\n",
       "        vertical-align: middle;\n",
       "    }\n",
       "\n",
       "    .dataframe tbody tr th {\n",
       "        vertical-align: top;\n",
       "    }\n",
       "\n",
       "    .dataframe thead th {\n",
       "        text-align: right;\n",
       "    }\n",
       "</style>\n",
       "<table border=\"1\" class=\"dataframe\">\n",
       "  <thead>\n",
       "    <tr style=\"text-align: right;\">\n",
       "      <th></th>\n",
       "      <th>\\t지점번호</th>\n",
       "      <th>지점명</th>\n",
       "      <th>일시</th>\n",
       "      <th>강수량(mm)</th>\n",
       "      <th>1시간최다강수량(mm)</th>\n",
       "      <th>1시간최다강수량시각</th>\n",
       "      <th>Unnamed: 6</th>\n",
       "    </tr>\n",
       "  </thead>\n",
       "  <tbody>\n",
       "    <tr>\n",
       "      <th>0</th>\n",
       "      <td>239</td>\n",
       "      <td>세종</td>\n",
       "      <td>2020-01-01</td>\n",
       "      <td>NaN</td>\n",
       "      <td>NaN</td>\n",
       "      <td>NaN</td>\n",
       "      <td>NaN</td>\n",
       "    </tr>\n",
       "    <tr>\n",
       "      <th>1</th>\n",
       "      <td>239</td>\n",
       "      <td>세종</td>\n",
       "      <td>2020-01-02</td>\n",
       "      <td>NaN</td>\n",
       "      <td>NaN</td>\n",
       "      <td>NaN</td>\n",
       "      <td>NaN</td>\n",
       "    </tr>\n",
       "    <tr>\n",
       "      <th>2</th>\n",
       "      <td>239</td>\n",
       "      <td>세종</td>\n",
       "      <td>2020-01-03</td>\n",
       "      <td>NaN</td>\n",
       "      <td>NaN</td>\n",
       "      <td>NaN</td>\n",
       "      <td>NaN</td>\n",
       "    </tr>\n",
       "    <tr>\n",
       "      <th>3</th>\n",
       "      <td>239</td>\n",
       "      <td>세종</td>\n",
       "      <td>2020-01-04</td>\n",
       "      <td>NaN</td>\n",
       "      <td>NaN</td>\n",
       "      <td>NaN</td>\n",
       "      <td>NaN</td>\n",
       "    </tr>\n",
       "    <tr>\n",
       "      <th>4</th>\n",
       "      <td>239</td>\n",
       "      <td>세종</td>\n",
       "      <td>2020-01-05</td>\n",
       "      <td>NaN</td>\n",
       "      <td>NaN</td>\n",
       "      <td>NaN</td>\n",
       "      <td>NaN</td>\n",
       "    </tr>\n",
       "  </tbody>\n",
       "</table>\n",
       "</div>"
      ],
      "text/plain": [
       "   \\t지점번호 지점명          일시  강수량(mm)  1시간최다강수량(mm) 1시간최다강수량시각  Unnamed: 6\n",
       "0     239  세종  2020-01-01      NaN           NaN        NaN         NaN\n",
       "1     239  세종  2020-01-02      NaN           NaN        NaN         NaN\n",
       "2     239  세종  2020-01-03      NaN           NaN        NaN         NaN\n",
       "3     239  세종  2020-01-04      NaN           NaN        NaN         NaN\n",
       "4     239  세종  2020-01-05      NaN           NaN        NaN         NaN"
      ]
     },
     "execution_count": 31,
     "metadata": {},
     "output_type": "execute_result"
    }
   ],
   "source": [
    "gangsu.head()"
   ]
  },
  {
   "cell_type": "code",
   "execution_count": 45,
   "id": "99ff4ca9-fa45-4eac-936c-904c1a074f3e",
   "metadata": {},
   "outputs": [
    {
     "data": {
      "text/plain": [
       "Index(['\\t지점번호', '지점명', '일시', '강수량(mm)', '1시간최다강수량(mm)', '1시간최다강수량시각',\n",
       "       'Unnamed: 6'],\n",
       "      dtype='object')"
      ]
     },
     "execution_count": 45,
     "metadata": {},
     "output_type": "execute_result"
    }
   ],
   "source": [
    "gangsu.columns"
   ]
  },
  {
   "cell_type": "code",
   "execution_count": 46,
   "id": "deb3843e-7825-4de4-8727-06efe57bbb6c",
   "metadata": {},
   "outputs": [
    {
     "data": {
      "text/html": [
       "<div>\n",
       "<style scoped>\n",
       "    .dataframe tbody tr th:only-of-type {\n",
       "        vertical-align: middle;\n",
       "    }\n",
       "\n",
       "    .dataframe tbody tr th {\n",
       "        vertical-align: top;\n",
       "    }\n",
       "\n",
       "    .dataframe thead th {\n",
       "        text-align: right;\n",
       "    }\n",
       "</style>\n",
       "<table border=\"1\" class=\"dataframe\">\n",
       "  <thead>\n",
       "    <tr style=\"text-align: right;\">\n",
       "      <th></th>\n",
       "      <th>지점번호</th>\n",
       "      <th>지점명</th>\n",
       "      <th>일시</th>\n",
       "      <th>강수량</th>\n",
       "      <th>1시간최다강수량</th>\n",
       "      <th>1시간최다강수량시각</th>\n",
       "      <th>Unnamed6</th>\n",
       "    </tr>\n",
       "  </thead>\n",
       "  <tbody>\n",
       "    <tr>\n",
       "      <th>0</th>\n",
       "      <td>239</td>\n",
       "      <td>세종</td>\n",
       "      <td>2020-01-01</td>\n",
       "      <td>NaN</td>\n",
       "      <td>NaN</td>\n",
       "      <td>NaN</td>\n",
       "      <td>NaN</td>\n",
       "    </tr>\n",
       "  </tbody>\n",
       "</table>\n",
       "</div>"
      ],
      "text/plain": [
       "   지점번호 지점명          일시  강수량  1시간최다강수량 1시간최다강수량시각  Unnamed6\n",
       "0   239  세종  2020-01-01  NaN       NaN        NaN       NaN"
      ]
     },
     "execution_count": 46,
     "metadata": {},
     "output_type": "execute_result"
    }
   ],
   "source": [
    "gangsu.columns = ['지점번호', '지점명', '일시', '강수량', '1시간최다강수량', '1시간최다강수량시각','Unnamed6']\n",
    "gangsu.head(1)"
   ]
  },
  {
   "cell_type": "code",
   "execution_count": 47,
   "id": "7b281e9b-95b5-41f2-bfa9-790949d0a134",
   "metadata": {},
   "outputs": [
    {
     "data": {
      "text/html": [
       "<div>\n",
       "<style scoped>\n",
       "    .dataframe tbody tr th:only-of-type {\n",
       "        vertical-align: middle;\n",
       "    }\n",
       "\n",
       "    .dataframe tbody tr th {\n",
       "        vertical-align: top;\n",
       "    }\n",
       "\n",
       "    .dataframe thead th {\n",
       "        text-align: right;\n",
       "    }\n",
       "</style>\n",
       "<table border=\"1\" class=\"dataframe\">\n",
       "  <thead>\n",
       "    <tr style=\"text-align: right;\">\n",
       "      <th></th>\n",
       "      <th>일시</th>\n",
       "      <th>강수량</th>\n",
       "    </tr>\n",
       "  </thead>\n",
       "  <tbody>\n",
       "    <tr>\n",
       "      <th>0</th>\n",
       "      <td>2020-01-01</td>\n",
       "      <td>NaN</td>\n",
       "    </tr>\n",
       "  </tbody>\n",
       "</table>\n",
       "</div>"
      ],
      "text/plain": [
       "           일시  강수량\n",
       "0  2020-01-01  NaN"
      ]
     },
     "execution_count": 47,
     "metadata": {},
     "output_type": "execute_result"
    }
   ],
   "source": [
    "gangsu = gangsu.drop(['지점번호', '지점명', '1시간최다강수량', '1시간최다강수량시각','Unnamed6'], axis=1)\n",
    "gangsu.head(1)"
   ]
  },
  {
   "cell_type": "code",
   "execution_count": 85,
   "id": "4312024f-a41b-4094-b7a0-c6e4d300c381",
   "metadata": {},
   "outputs": [
    {
     "name": "stdout",
     "output_type": "stream",
     "text": [
      "<class 'pandas.core.frame.DataFrame'>\n",
      "RangeIndex: 1096 entries, 0 to 1095\n",
      "Data columns (total 2 columns):\n",
      " #   Column  Non-Null Count  Dtype  \n",
      "---  ------  --------------  -----  \n",
      " 0   일시      1096 non-null   object \n",
      " 1   강수량     354 non-null    float64\n",
      "dtypes: float64(1), object(1)\n",
      "memory usage: 17.2+ KB\n"
     ]
    }
   ],
   "source": [
    "gangsu.info()"
   ]
  },
  {
   "cell_type": "code",
   "execution_count": 86,
   "id": "01cbf3d9-e65a-4a01-981d-23e141430f47",
   "metadata": {},
   "outputs": [],
   "source": [
    "# 날씨 정보 통합\n",
    "weather = gion.merge(sebdo, on='일시')"
   ]
  },
  {
   "cell_type": "code",
   "execution_count": 87,
   "id": "f9479773-a9c1-430d-aa3b-a12c4b8d0024",
   "metadata": {},
   "outputs": [
    {
     "data": {
      "text/html": [
       "<div>\n",
       "<style scoped>\n",
       "    .dataframe tbody tr th:only-of-type {\n",
       "        vertical-align: middle;\n",
       "    }\n",
       "\n",
       "    .dataframe tbody tr th {\n",
       "        vertical-align: top;\n",
       "    }\n",
       "\n",
       "    .dataframe thead th {\n",
       "        text-align: right;\n",
       "    }\n",
       "</style>\n",
       "<table border=\"1\" class=\"dataframe\">\n",
       "  <thead>\n",
       "    <tr style=\"text-align: right;\">\n",
       "      <th></th>\n",
       "      <th>일시</th>\n",
       "      <th>평균기온</th>\n",
       "      <th>평균습도</th>\n",
       "    </tr>\n",
       "  </thead>\n",
       "  <tbody>\n",
       "    <tr>\n",
       "      <th>0</th>\n",
       "      <td>2020-01-01</td>\n",
       "      <td>-1.6</td>\n",
       "      <td>65.0</td>\n",
       "    </tr>\n",
       "  </tbody>\n",
       "</table>\n",
       "</div>"
      ],
      "text/plain": [
       "           일시  평균기온  평균습도\n",
       "0  2020-01-01  -1.6  65.0"
      ]
     },
     "execution_count": 87,
     "metadata": {},
     "output_type": "execute_result"
    }
   ],
   "source": [
    "weather.head(1)"
   ]
  },
  {
   "cell_type": "code",
   "execution_count": 88,
   "id": "cd864c78-e0ad-466a-a6f8-352103afdebe",
   "metadata": {},
   "outputs": [],
   "source": [
    "weather = weather.merge(baram, on='일시')"
   ]
  },
  {
   "cell_type": "code",
   "execution_count": 89,
   "id": "b1303a11-0d0a-4853-bd30-2ae11f0a7b98",
   "metadata": {},
   "outputs": [
    {
     "data": {
      "text/html": [
       "<div>\n",
       "<style scoped>\n",
       "    .dataframe tbody tr th:only-of-type {\n",
       "        vertical-align: middle;\n",
       "    }\n",
       "\n",
       "    .dataframe tbody tr th {\n",
       "        vertical-align: top;\n",
       "    }\n",
       "\n",
       "    .dataframe thead th {\n",
       "        text-align: right;\n",
       "    }\n",
       "</style>\n",
       "<table border=\"1\" class=\"dataframe\">\n",
       "  <thead>\n",
       "    <tr style=\"text-align: right;\">\n",
       "      <th></th>\n",
       "      <th>일시</th>\n",
       "      <th>평균기온</th>\n",
       "      <th>평균습도</th>\n",
       "      <th>평균풍속</th>\n",
       "    </tr>\n",
       "  </thead>\n",
       "  <tbody>\n",
       "    <tr>\n",
       "      <th>0</th>\n",
       "      <td>2020-01-01</td>\n",
       "      <td>-1.6</td>\n",
       "      <td>65.0</td>\n",
       "      <td>0.8</td>\n",
       "    </tr>\n",
       "  </tbody>\n",
       "</table>\n",
       "</div>"
      ],
      "text/plain": [
       "           일시  평균기온  평균습도  평균풍속\n",
       "0  2020-01-01  -1.6  65.0   0.8"
      ]
     },
     "execution_count": 89,
     "metadata": {},
     "output_type": "execute_result"
    }
   ],
   "source": [
    "weather.head(1)"
   ]
  },
  {
   "cell_type": "code",
   "execution_count": 90,
   "id": "43bdafa6-6534-49fe-a85a-b5ba81c76d98",
   "metadata": {},
   "outputs": [],
   "source": [
    "weather = weather.merge(gangsu, on='일시')"
   ]
  },
  {
   "cell_type": "code",
   "execution_count": 91,
   "id": "bfefa82f-a466-4f99-b14f-cbdf5be6ff79",
   "metadata": {},
   "outputs": [
    {
     "data": {
      "text/html": [
       "<div>\n",
       "<style scoped>\n",
       "    .dataframe tbody tr th:only-of-type {\n",
       "        vertical-align: middle;\n",
       "    }\n",
       "\n",
       "    .dataframe tbody tr th {\n",
       "        vertical-align: top;\n",
       "    }\n",
       "\n",
       "    .dataframe thead th {\n",
       "        text-align: right;\n",
       "    }\n",
       "</style>\n",
       "<table border=\"1\" class=\"dataframe\">\n",
       "  <thead>\n",
       "    <tr style=\"text-align: right;\">\n",
       "      <th></th>\n",
       "      <th>일시</th>\n",
       "      <th>평균기온</th>\n",
       "      <th>평균습도</th>\n",
       "      <th>평균풍속</th>\n",
       "      <th>강수량</th>\n",
       "    </tr>\n",
       "  </thead>\n",
       "  <tbody>\n",
       "    <tr>\n",
       "      <th>0</th>\n",
       "      <td>2020-01-01</td>\n",
       "      <td>-1.6</td>\n",
       "      <td>65.0</td>\n",
       "      <td>0.8</td>\n",
       "      <td>NaN</td>\n",
       "    </tr>\n",
       "  </tbody>\n",
       "</table>\n",
       "</div>"
      ],
      "text/plain": [
       "           일시  평균기온  평균습도  평균풍속  강수량\n",
       "0  2020-01-01  -1.6  65.0   0.8  NaN"
      ]
     },
     "execution_count": 91,
     "metadata": {},
     "output_type": "execute_result"
    }
   ],
   "source": [
    "weather.head(1)"
   ]
  },
  {
   "cell_type": "code",
   "execution_count": 92,
   "id": "950af7f7-03ff-4701-aee5-4e99b19c9f62",
   "metadata": {},
   "outputs": [
    {
     "name": "stdout",
     "output_type": "stream",
     "text": [
      "<class 'pandas.core.frame.DataFrame'>\n",
      "Int64Index: 1096 entries, 0 to 1095\n",
      "Data columns (total 5 columns):\n",
      " #   Column  Non-Null Count  Dtype  \n",
      "---  ------  --------------  -----  \n",
      " 0   일시      1096 non-null   object \n",
      " 1   평균기온    1094 non-null   float64\n",
      " 2   평균습도    1094 non-null   float64\n",
      " 3   평균풍속    1096 non-null   float64\n",
      " 4   강수량     354 non-null    float64\n",
      "dtypes: float64(4), object(1)\n",
      "memory usage: 51.4+ KB\n"
     ]
    }
   ],
   "source": [
    "weather.info()"
   ]
  },
  {
   "cell_type": "code",
   "execution_count": 96,
   "id": "52f185c0-74d4-4b77-abb3-fc52d95ea1af",
   "metadata": {},
   "outputs": [
    {
     "name": "stdout",
     "output_type": "stream",
     "text": [
      "column:         일시\t Percent of NaN value: 0.00%\n",
      "column:       평균기온\t Percent of NaN value: 0.18%\n",
      "column:       평균습도\t Percent of NaN value: 0.18%\n",
      "column:       평균풍속\t Percent of NaN value: 0.00%\n",
      "column:        강수량\t Percent of NaN value: 67.70%\n"
     ]
    }
   ],
   "source": [
    "# 결측치 확인\n",
    "for col in weather.columns:\n",
    "    msg = 'column: {:>10}\\t Percent of NaN value: {:.2f}%'\\\n",
    "    .format(col, 100*(weather[col].isnull().sum() / weather[col].shape[0]))\n",
    "    print(msg)"
   ]
  },
  {
   "cell_type": "code",
   "execution_count": 99,
   "id": "0fa52cf8-335f-421f-b1c2-2e35f394bd34",
   "metadata": {},
   "outputs": [
    {
     "data": {
      "text/plain": [
       "Index(['일시', '평균기온', '평균습도', '평균풍속'], dtype='object')"
      ]
     },
     "execution_count": 99,
     "metadata": {},
     "output_type": "execute_result"
    }
   ],
   "source": [
    "# 가수량 컬럼은 삭제\n",
    "# 평균기온, 평균습도는 평균 값으로 채우기\n",
    "weather = weather.drop('강수량', axis=1)\n",
    "weather.columns"
   ]
  },
  {
   "cell_type": "code",
   "execution_count": 101,
   "id": "1c5046f6-bd36-44ac-9bfe-ca4ee2edd68e",
   "metadata": {},
   "outputs": [
    {
     "data": {
      "text/plain": [
       "일시      0\n",
       "평균기온    0\n",
       "평균습도    0\n",
       "평균풍속    0\n",
       "dtype: int64"
      ]
     },
     "execution_count": 101,
     "metadata": {},
     "output_type": "execute_result"
    }
   ],
   "source": [
    "weather['평균기온'].fillna(method='ffill', inplace=True)\n",
    "weather['평균습도'].fillna(method='ffill', inplace=True)\n",
    "weather.isnull().sum()"
   ]
  },
  {
   "cell_type": "code",
   "execution_count": 104,
   "id": "1cebd0d4-81fd-4d61-8204-1dcbf9f8485c",
   "metadata": {},
   "outputs": [],
   "source": [
    "weather.to_csv('./weather.csv', index=False)"
   ]
  },
  {
   "cell_type": "code",
   "execution_count": null,
   "id": "60d5f881-a65c-47d8-b76b-c65d0ff436ba",
   "metadata": {},
   "outputs": [],
   "source": [
    "!conda install -c anaconda lxml -y"
   ]
  },
  {
   "cell_type": "code",
   "execution_count": 7,
   "id": "f9957d01-7953-4aac-9a02-65276ee4b1ad",
   "metadata": {},
   "outputs": [
    {
     "data": {
      "text/html": [
       "<div>\n",
       "<style scoped>\n",
       "    .dataframe tbody tr th:only-of-type {\n",
       "        vertical-align: middle;\n",
       "    }\n",
       "\n",
       "    .dataframe tbody tr th {\n",
       "        vertical-align: top;\n",
       "    }\n",
       "\n",
       "    .dataframe thead th {\n",
       "        text-align: right;\n",
       "    }\n",
       "</style>\n",
       "<table border=\"1\" class=\"dataframe\">\n",
       "  <thead>\n",
       "    <tr style=\"text-align: right;\">\n",
       "      <th></th>\n",
       "      <th>구분</th>\n",
       "      <th>구분.1</th>\n",
       "      <th>구분.2</th>\n",
       "      <th>01/02</th>\n",
       "      <th>01/03</th>\n",
       "      <th>01/06</th>\n",
       "      <th>01/07</th>\n",
       "      <th>01/08</th>\n",
       "      <th>01/09</th>\n",
       "      <th>01/10</th>\n",
       "      <th>...</th>\n",
       "      <th>12/17</th>\n",
       "      <th>12/18</th>\n",
       "      <th>12/21</th>\n",
       "      <th>12/22</th>\n",
       "      <th>12/23</th>\n",
       "      <th>12/24</th>\n",
       "      <th>12/28</th>\n",
       "      <th>12/29</th>\n",
       "      <th>12/30</th>\n",
       "      <th>12/31</th>\n",
       "    </tr>\n",
       "  </thead>\n",
       "  <tbody>\n",
       "    <tr>\n",
       "      <th>0</th>\n",
       "      <td>평균</td>\n",
       "      <td>평균</td>\n",
       "      <td>평균</td>\n",
       "      <td>3580</td>\n",
       "      <td>3580</td>\n",
       "      <td>3580</td>\n",
       "      <td>3480</td>\n",
       "      <td>3480</td>\n",
       "      <td>3480</td>\n",
       "      <td>3480</td>\n",
       "      <td>...</td>\n",
       "      <td>NaN</td>\n",
       "      <td>NaN</td>\n",
       "      <td>NaN</td>\n",
       "      <td>NaN</td>\n",
       "      <td>NaN</td>\n",
       "      <td>NaN</td>\n",
       "      <td>NaN</td>\n",
       "      <td>NaN</td>\n",
       "      <td>NaN</td>\n",
       "      <td>NaN</td>\n",
       "    </tr>\n",
       "    <tr>\n",
       "      <th>1</th>\n",
       "      <td>평년</td>\n",
       "      <td>평년</td>\n",
       "      <td>평년</td>\n",
       "      <td>2180</td>\n",
       "      <td>2180</td>\n",
       "      <td>2180</td>\n",
       "      <td>2180</td>\n",
       "      <td>2180</td>\n",
       "      <td>2270</td>\n",
       "      <td>2288</td>\n",
       "      <td>...</td>\n",
       "      <td>NaN</td>\n",
       "      <td>NaN</td>\n",
       "      <td>NaN</td>\n",
       "      <td>NaN</td>\n",
       "      <td>NaN</td>\n",
       "      <td>NaN</td>\n",
       "      <td>NaN</td>\n",
       "      <td>NaN</td>\n",
       "      <td>NaN</td>\n",
       "      <td>NaN</td>\n",
       "    </tr>\n",
       "    <tr>\n",
       "      <th>2</th>\n",
       "      <td>세종</td>\n",
       "      <td>C-유통</td>\n",
       "      <td>봄</td>\n",
       "      <td>3580</td>\n",
       "      <td>3580</td>\n",
       "      <td>3580</td>\n",
       "      <td>3480</td>\n",
       "      <td>3480</td>\n",
       "      <td>3480</td>\n",
       "      <td>3480</td>\n",
       "      <td>...</td>\n",
       "      <td>NaN</td>\n",
       "      <td>NaN</td>\n",
       "      <td>NaN</td>\n",
       "      <td>NaN</td>\n",
       "      <td>NaN</td>\n",
       "      <td>NaN</td>\n",
       "      <td>NaN</td>\n",
       "      <td>NaN</td>\n",
       "      <td>NaN</td>\n",
       "      <td>NaN</td>\n",
       "    </tr>\n",
       "    <tr>\n",
       "      <th>3</th>\n",
       "      <td>세종</td>\n",
       "      <td>C-유통</td>\n",
       "      <td>여름(고랭지)</td>\n",
       "      <td>-</td>\n",
       "      <td>-</td>\n",
       "      <td>-</td>\n",
       "      <td>-</td>\n",
       "      <td>-</td>\n",
       "      <td>-</td>\n",
       "      <td>-</td>\n",
       "      <td>...</td>\n",
       "      <td>NaN</td>\n",
       "      <td>NaN</td>\n",
       "      <td>NaN</td>\n",
       "      <td>NaN</td>\n",
       "      <td>NaN</td>\n",
       "      <td>NaN</td>\n",
       "      <td>NaN</td>\n",
       "      <td>NaN</td>\n",
       "      <td>NaN</td>\n",
       "      <td>NaN</td>\n",
       "    </tr>\n",
       "    <tr>\n",
       "      <th>4</th>\n",
       "      <td>구분  01/02  01/03  01/06  01/07  01/08  01/09  ...</td>\n",
       "      <td>NaN</td>\n",
       "      <td>NaN</td>\n",
       "      <td>NaN</td>\n",
       "      <td>NaN</td>\n",
       "      <td>NaN</td>\n",
       "      <td>NaN</td>\n",
       "      <td>NaN</td>\n",
       "      <td>NaN</td>\n",
       "      <td>NaN</td>\n",
       "      <td>...</td>\n",
       "      <td>NaN</td>\n",
       "      <td>NaN</td>\n",
       "      <td>NaN</td>\n",
       "      <td>NaN</td>\n",
       "      <td>NaN</td>\n",
       "      <td>NaN</td>\n",
       "      <td>NaN</td>\n",
       "      <td>NaN</td>\n",
       "      <td>NaN</td>\n",
       "      <td>NaN</td>\n",
       "    </tr>\n",
       "  </tbody>\n",
       "</table>\n",
       "<p>5 rows × 251 columns</p>\n",
       "</div>"
      ],
      "text/plain": [
       "                                                  구분  구분.1     구분.2 01/02  \\\n",
       "0                                                 평균    평균       평균  3580   \n",
       "1                                                 평년    평년       평년  2180   \n",
       "2                                                 세종  C-유통        봄  3580   \n",
       "3                                                 세종  C-유통  여름(고랭지)     -   \n",
       "4  구분  01/02  01/03  01/06  01/07  01/08  01/09  ...   NaN      NaN   NaN   \n",
       "\n",
       "  01/03 01/06 01/07 01/08 01/09 01/10  ... 12/17 12/18 12/21 12/22 12/23  \\\n",
       "0  3580  3580  3480  3480  3480  3480  ...   NaN   NaN   NaN   NaN   NaN   \n",
       "1  2180  2180  2180  2180  2270  2288  ...   NaN   NaN   NaN   NaN   NaN   \n",
       "2  3580  3580  3480  3480  3480  3480  ...   NaN   NaN   NaN   NaN   NaN   \n",
       "3     -     -     -     -     -     -  ...   NaN   NaN   NaN   NaN   NaN   \n",
       "4   NaN   NaN   NaN   NaN   NaN   NaN  ...   NaN   NaN   NaN   NaN   NaN   \n",
       "\n",
       "  12/24 12/28 12/29 12/30 12/31  \n",
       "0   NaN   NaN   NaN   NaN   NaN  \n",
       "1   NaN   NaN   NaN   NaN   NaN  \n",
       "2   NaN   NaN   NaN   NaN   NaN  \n",
       "3   NaN   NaN   NaN   NaN   NaN  \n",
       "4   NaN   NaN   NaN   NaN   NaN  \n",
       "\n",
       "[5 rows x 251 columns]"
      ]
     },
     "execution_count": 7,
     "metadata": {},
     "output_type": "execute_result"
    }
   ],
   "source": [
    "price2020 = pd.read_html('./가격정보2020.xls')[0]\n",
    "price2020.head()"
   ]
  },
  {
   "cell_type": "code",
   "execution_count": 8,
   "id": "aae7dee1-4a1d-4d84-a4ae-3dac4067573e",
   "metadata": {},
   "outputs": [
    {
     "data": {
      "text/plain": [
       "01/02    3580\n",
       "01/03    3580\n",
       "01/06    3580\n",
       "01/07    3480\n",
       "01/08    3480\n",
       "Name: 0, dtype: object"
      ]
     },
     "execution_count": 8,
     "metadata": {},
     "output_type": "execute_result"
    }
   ],
   "source": [
    "price2020 = price2020.iloc[0,3:-1]\n",
    "price2020.head()"
   ]
  },
  {
   "cell_type": "code",
   "execution_count": 9,
   "id": "f83cf61b-9304-427d-9300-d9f828a2d6a8",
   "metadata": {},
   "outputs": [
    {
     "data": {
      "text/html": [
       "<div>\n",
       "<style scoped>\n",
       "    .dataframe tbody tr th:only-of-type {\n",
       "        vertical-align: middle;\n",
       "    }\n",
       "\n",
       "    .dataframe tbody tr th {\n",
       "        vertical-align: top;\n",
       "    }\n",
       "\n",
       "    .dataframe thead th {\n",
       "        text-align: right;\n",
       "    }\n",
       "</style>\n",
       "<table border=\"1\" class=\"dataframe\">\n",
       "  <thead>\n",
       "    <tr style=\"text-align: right;\">\n",
       "      <th></th>\n",
       "      <th>index</th>\n",
       "      <th>0</th>\n",
       "    </tr>\n",
       "  </thead>\n",
       "  <tbody>\n",
       "    <tr>\n",
       "      <th>0</th>\n",
       "      <td>01/02</td>\n",
       "      <td>3580</td>\n",
       "    </tr>\n",
       "  </tbody>\n",
       "</table>\n",
       "</div>"
      ],
      "text/plain": [
       "   index     0\n",
       "0  01/02  3580"
      ]
     },
     "execution_count": 9,
     "metadata": {},
     "output_type": "execute_result"
    }
   ],
   "source": [
    "price2020 = price2020.reset_index()\n",
    "price2020.head(1)"
   ]
  },
  {
   "cell_type": "code",
   "execution_count": 10,
   "id": "c87b8dd2-8743-4bfd-85d4-ae7804d323b8",
   "metadata": {},
   "outputs": [
    {
     "data": {
      "text/html": [
       "<div>\n",
       "<style scoped>\n",
       "    .dataframe tbody tr th:only-of-type {\n",
       "        vertical-align: middle;\n",
       "    }\n",
       "\n",
       "    .dataframe tbody tr th {\n",
       "        vertical-align: top;\n",
       "    }\n",
       "\n",
       "    .dataframe thead th {\n",
       "        text-align: right;\n",
       "    }\n",
       "</style>\n",
       "<table border=\"1\" class=\"dataframe\">\n",
       "  <thead>\n",
       "    <tr style=\"text-align: right;\">\n",
       "      <th></th>\n",
       "      <th>일시</th>\n",
       "      <th>가격</th>\n",
       "    </tr>\n",
       "  </thead>\n",
       "  <tbody>\n",
       "    <tr>\n",
       "      <th>0</th>\n",
       "      <td>01/02</td>\n",
       "      <td>3580</td>\n",
       "    </tr>\n",
       "  </tbody>\n",
       "</table>\n",
       "</div>"
      ],
      "text/plain": [
       "      일시    가격\n",
       "0  01/02  3580"
      ]
     },
     "execution_count": 10,
     "metadata": {},
     "output_type": "execute_result"
    }
   ],
   "source": [
    "price2020.columns = ['일시', '가격']\n",
    "price2020.head(1)"
   ]
  },
  {
   "cell_type": "code",
   "execution_count": 11,
   "id": "c9f99df2-9471-4cfc-b282-285b82408beb",
   "metadata": {},
   "outputs": [
    {
     "data": {
      "text/plain": [
       "'2020-01-02'"
      ]
     },
     "execution_count": 11,
     "metadata": {},
     "output_type": "execute_result"
    }
   ],
   "source": [
    "def add_year(date):\n",
    "    tmp = date.replace('/', '-')\n",
    "    tmp = '2020-' + tmp\n",
    "    return tmp\n",
    "add_year(price2020['일시'][0])"
   ]
  },
  {
   "cell_type": "code",
   "execution_count": 12,
   "id": "3a5d84a9-dddd-4d15-8ea1-50a3bc3dd5be",
   "metadata": {},
   "outputs": [
    {
     "data": {
      "text/html": [
       "<div>\n",
       "<style scoped>\n",
       "    .dataframe tbody tr th:only-of-type {\n",
       "        vertical-align: middle;\n",
       "    }\n",
       "\n",
       "    .dataframe tbody tr th {\n",
       "        vertical-align: top;\n",
       "    }\n",
       "\n",
       "    .dataframe thead th {\n",
       "        text-align: right;\n",
       "    }\n",
       "</style>\n",
       "<table border=\"1\" class=\"dataframe\">\n",
       "  <thead>\n",
       "    <tr style=\"text-align: right;\">\n",
       "      <th></th>\n",
       "      <th>일시</th>\n",
       "      <th>가격</th>\n",
       "    </tr>\n",
       "  </thead>\n",
       "  <tbody>\n",
       "    <tr>\n",
       "      <th>0</th>\n",
       "      <td>2020-01-02</td>\n",
       "      <td>3580</td>\n",
       "    </tr>\n",
       "    <tr>\n",
       "      <th>1</th>\n",
       "      <td>2020-01-03</td>\n",
       "      <td>3580</td>\n",
       "    </tr>\n",
       "    <tr>\n",
       "      <th>2</th>\n",
       "      <td>2020-01-06</td>\n",
       "      <td>3580</td>\n",
       "    </tr>\n",
       "    <tr>\n",
       "      <th>3</th>\n",
       "      <td>2020-01-07</td>\n",
       "      <td>3480</td>\n",
       "    </tr>\n",
       "    <tr>\n",
       "      <th>4</th>\n",
       "      <td>2020-01-08</td>\n",
       "      <td>3480</td>\n",
       "    </tr>\n",
       "  </tbody>\n",
       "</table>\n",
       "</div>"
      ],
      "text/plain": [
       "           일시    가격\n",
       "0  2020-01-02  3580\n",
       "1  2020-01-03  3580\n",
       "2  2020-01-06  3580\n",
       "3  2020-01-07  3480\n",
       "4  2020-01-08  3480"
      ]
     },
     "execution_count": 12,
     "metadata": {},
     "output_type": "execute_result"
    }
   ],
   "source": [
    "price2020['일시'] = price['일시'].apply(add_year)\n",
    "price2020.head()"
   ]
  },
  {
   "cell_type": "code",
   "execution_count": 13,
   "id": "4241fd7c-078d-4e26-9c87-8077fbc203d0",
   "metadata": {},
   "outputs": [
    {
     "data": {
      "text/html": [
       "<div>\n",
       "<style scoped>\n",
       "    .dataframe tbody tr th:only-of-type {\n",
       "        vertical-align: middle;\n",
       "    }\n",
       "\n",
       "    .dataframe tbody tr th {\n",
       "        vertical-align: top;\n",
       "    }\n",
       "\n",
       "    .dataframe thead th {\n",
       "        text-align: right;\n",
       "    }\n",
       "</style>\n",
       "<table border=\"1\" class=\"dataframe\">\n",
       "  <thead>\n",
       "    <tr style=\"text-align: right;\">\n",
       "      <th></th>\n",
       "      <th>일시</th>\n",
       "      <th>평균기온</th>\n",
       "      <th>평균습도</th>\n",
       "      <th>평균풍속</th>\n",
       "    </tr>\n",
       "  </thead>\n",
       "  <tbody>\n",
       "    <tr>\n",
       "      <th>0</th>\n",
       "      <td>2020-01-01</td>\n",
       "      <td>-1.6</td>\n",
       "      <td>65.0</td>\n",
       "      <td>0.8</td>\n",
       "    </tr>\n",
       "    <tr>\n",
       "      <th>1</th>\n",
       "      <td>2020-01-02</td>\n",
       "      <td>0.7</td>\n",
       "      <td>74.3</td>\n",
       "      <td>0.6</td>\n",
       "    </tr>\n",
       "    <tr>\n",
       "      <th>2</th>\n",
       "      <td>2020-01-03</td>\n",
       "      <td>1.3</td>\n",
       "      <td>71.1</td>\n",
       "      <td>1.0</td>\n",
       "    </tr>\n",
       "    <tr>\n",
       "      <th>3</th>\n",
       "      <td>2020-01-04</td>\n",
       "      <td>0.2</td>\n",
       "      <td>69.1</td>\n",
       "      <td>0.8</td>\n",
       "    </tr>\n",
       "    <tr>\n",
       "      <th>4</th>\n",
       "      <td>2020-01-05</td>\n",
       "      <td>0.6</td>\n",
       "      <td>58.4</td>\n",
       "      <td>0.6</td>\n",
       "    </tr>\n",
       "  </tbody>\n",
       "</table>\n",
       "</div>"
      ],
      "text/plain": [
       "           일시  평균기온  평균습도  평균풍속\n",
       "0  2020-01-01  -1.6  65.0   0.8\n",
       "1  2020-01-02   0.7  74.3   0.6\n",
       "2  2020-01-03   1.3  71.1   1.0\n",
       "3  2020-01-04   0.2  69.1   0.8\n",
       "4  2020-01-05   0.6  58.4   0.6"
      ]
     },
     "execution_count": 13,
     "metadata": {},
     "output_type": "execute_result"
    }
   ],
   "source": [
    "weather = pd.read_csv('./weather.csv')\n",
    "weather.head()"
   ]
  },
  {
   "cell_type": "code",
   "execution_count": 14,
   "id": "ce42d959-5e42-4ca4-afa7-e30107717846",
   "metadata": {},
   "outputs": [
    {
     "data": {
      "text/html": [
       "<div>\n",
       "<style scoped>\n",
       "    .dataframe tbody tr th:only-of-type {\n",
       "        vertical-align: middle;\n",
       "    }\n",
       "\n",
       "    .dataframe tbody tr th {\n",
       "        vertical-align: top;\n",
       "    }\n",
       "\n",
       "    .dataframe thead th {\n",
       "        text-align: right;\n",
       "    }\n",
       "</style>\n",
       "<table border=\"1\" class=\"dataframe\">\n",
       "  <thead>\n",
       "    <tr style=\"text-align: right;\">\n",
       "      <th></th>\n",
       "      <th>일시</th>\n",
       "      <th>가격</th>\n",
       "      <th>평균기온</th>\n",
       "      <th>평균습도</th>\n",
       "      <th>평균풍속</th>\n",
       "    </tr>\n",
       "  </thead>\n",
       "  <tbody>\n",
       "    <tr>\n",
       "      <th>0</th>\n",
       "      <td>2020-01-02</td>\n",
       "      <td>3580</td>\n",
       "      <td>0.7</td>\n",
       "      <td>74.3</td>\n",
       "      <td>0.6</td>\n",
       "    </tr>\n",
       "    <tr>\n",
       "      <th>1</th>\n",
       "      <td>2020-01-03</td>\n",
       "      <td>3580</td>\n",
       "      <td>1.3</td>\n",
       "      <td>71.1</td>\n",
       "      <td>1.0</td>\n",
       "    </tr>\n",
       "    <tr>\n",
       "      <th>2</th>\n",
       "      <td>2020-01-06</td>\n",
       "      <td>3580</td>\n",
       "      <td>2.4</td>\n",
       "      <td>83.6</td>\n",
       "      <td>1.1</td>\n",
       "    </tr>\n",
       "    <tr>\n",
       "      <th>3</th>\n",
       "      <td>2020-01-07</td>\n",
       "      <td>3480</td>\n",
       "      <td>8.2</td>\n",
       "      <td>95.6</td>\n",
       "      <td>1.3</td>\n",
       "    </tr>\n",
       "    <tr>\n",
       "      <th>4</th>\n",
       "      <td>2020-01-08</td>\n",
       "      <td>3480</td>\n",
       "      <td>3.9</td>\n",
       "      <td>85.8</td>\n",
       "      <td>2.3</td>\n",
       "    </tr>\n",
       "  </tbody>\n",
       "</table>\n",
       "</div>"
      ],
      "text/plain": [
       "           일시    가격  평균기온  평균습도  평균풍속\n",
       "0  2020-01-02  3580   0.7  74.3   0.6\n",
       "1  2020-01-03  3580   1.3  71.1   1.0\n",
       "2  2020-01-06  3580   2.4  83.6   1.1\n",
       "3  2020-01-07  3480   8.2  95.6   1.3\n",
       "4  2020-01-08  3480   3.9  85.8   2.3"
      ]
     },
     "execution_count": 14,
     "metadata": {},
     "output_type": "execute_result"
    }
   ],
   "source": [
    "df = pd.merge(price2020, weather, how='inner', on='일시')\n",
    "df.head()"
   ]
  },
  {
   "cell_type": "code",
   "execution_count": 15,
   "id": "6543795a-6264-49d3-bb6b-6e7c0215132a",
   "metadata": {},
   "outputs": [
    {
     "name": "stdout",
     "output_type": "stream",
     "text": [
      "<class 'pandas.core.frame.DataFrame'>\n",
      "Int64Index: 247 entries, 0 to 246\n",
      "Data columns (total 5 columns):\n",
      " #   Column  Non-Null Count  Dtype  \n",
      "---  ------  --------------  -----  \n",
      " 0   일시      247 non-null    object \n",
      " 1   가격      41 non-null     object \n",
      " 2   평균기온    247 non-null    float64\n",
      " 3   평균습도    247 non-null    float64\n",
      " 4   평균풍속    247 non-null    float64\n",
      "dtypes: float64(3), object(2)\n",
      "memory usage: 11.6+ KB\n"
     ]
    }
   ],
   "source": [
    "df.info()"
   ]
  },
  {
   "cell_type": "code",
   "execution_count": 19,
   "id": "53a72713-0c85-425f-ba2a-a19a2bd51c92",
   "metadata": {},
   "outputs": [],
   "source": [
    "df['가격'] = df['가격'].astype(np.float64)"
   ]
  },
  {
   "cell_type": "code",
   "execution_count": 20,
   "id": "86ee84ef-776a-4b59-b693-40b84d854dfe",
   "metadata": {},
   "outputs": [
    {
     "name": "stdout",
     "output_type": "stream",
     "text": [
      "<class 'pandas.core.frame.DataFrame'>\n",
      "Int64Index: 247 entries, 0 to 246\n",
      "Data columns (total 5 columns):\n",
      " #   Column  Non-Null Count  Dtype  \n",
      "---  ------  --------------  -----  \n",
      " 0   일시      247 non-null    object \n",
      " 1   가격      41 non-null     float64\n",
      " 2   평균기온    247 non-null    float64\n",
      " 3   평균습도    247 non-null    float64\n",
      " 4   평균풍속    247 non-null    float64\n",
      "dtypes: float64(4), object(1)\n",
      "memory usage: 11.6+ KB\n"
     ]
    }
   ],
   "source": [
    "df.info()"
   ]
  },
  {
   "cell_type": "code",
   "execution_count": 21,
   "id": "25ac5b94-6081-4fcf-b2a8-7cef13a26c66",
   "metadata": {},
   "outputs": [
    {
     "name": "stdout",
     "output_type": "stream",
     "text": [
      "<class 'pandas.core.frame.DataFrame'>\n",
      "Int64Index: 41 entries, 0 to 40\n",
      "Data columns (total 5 columns):\n",
      " #   Column  Non-Null Count  Dtype  \n",
      "---  ------  --------------  -----  \n",
      " 0   일시      41 non-null     object \n",
      " 1   가격      41 non-null     float64\n",
      " 2   평균기온    41 non-null     float64\n",
      " 3   평균습도    41 non-null     float64\n",
      " 4   평균풍속    41 non-null     float64\n",
      "dtypes: float64(4), object(1)\n",
      "memory usage: 1.9+ KB\n"
     ]
    }
   ],
   "source": [
    "df.dropna(inplace=True)\n",
    "df.info()"
   ]
  },
  {
   "cell_type": "code",
   "execution_count": 22,
   "id": "6824c98a-4fc2-4a4c-a286-79949dd904e3",
   "metadata": {},
   "outputs": [
    {
     "data": {
      "text/html": [
       "<div>\n",
       "<style scoped>\n",
       "    .dataframe tbody tr th:only-of-type {\n",
       "        vertical-align: middle;\n",
       "    }\n",
       "\n",
       "    .dataframe tbody tr th {\n",
       "        vertical-align: top;\n",
       "    }\n",
       "\n",
       "    .dataframe thead th {\n",
       "        text-align: right;\n",
       "    }\n",
       "</style>\n",
       "<table border=\"1\" class=\"dataframe\">\n",
       "  <thead>\n",
       "    <tr style=\"text-align: right;\">\n",
       "      <th></th>\n",
       "      <th>일시</th>\n",
       "      <th>가격</th>\n",
       "      <th>평균기온</th>\n",
       "      <th>평균습도</th>\n",
       "      <th>평균풍속</th>\n",
       "    </tr>\n",
       "  </thead>\n",
       "  <tbody>\n",
       "    <tr>\n",
       "      <th>0</th>\n",
       "      <td>2020-01-02</td>\n",
       "      <td>3580.0</td>\n",
       "      <td>0.7</td>\n",
       "      <td>74.3</td>\n",
       "      <td>0.6</td>\n",
       "    </tr>\n",
       "    <tr>\n",
       "      <th>1</th>\n",
       "      <td>2020-01-03</td>\n",
       "      <td>3580.0</td>\n",
       "      <td>1.3</td>\n",
       "      <td>71.1</td>\n",
       "      <td>1.0</td>\n",
       "    </tr>\n",
       "    <tr>\n",
       "      <th>2</th>\n",
       "      <td>2020-01-06</td>\n",
       "      <td>3580.0</td>\n",
       "      <td>2.4</td>\n",
       "      <td>83.6</td>\n",
       "      <td>1.1</td>\n",
       "    </tr>\n",
       "    <tr>\n",
       "      <th>3</th>\n",
       "      <td>2020-01-07</td>\n",
       "      <td>3480.0</td>\n",
       "      <td>8.2</td>\n",
       "      <td>95.6</td>\n",
       "      <td>1.3</td>\n",
       "    </tr>\n",
       "    <tr>\n",
       "      <th>4</th>\n",
       "      <td>2020-01-08</td>\n",
       "      <td>3480.0</td>\n",
       "      <td>3.9</td>\n",
       "      <td>85.8</td>\n",
       "      <td>2.3</td>\n",
       "    </tr>\n",
       "  </tbody>\n",
       "</table>\n",
       "</div>"
      ],
      "text/plain": [
       "           일시      가격  평균기온  평균습도  평균풍속\n",
       "0  2020-01-02  3580.0   0.7  74.3   0.6\n",
       "1  2020-01-03  3580.0   1.3  71.1   1.0\n",
       "2  2020-01-06  3580.0   2.4  83.6   1.1\n",
       "3  2020-01-07  3480.0   8.2  95.6   1.3\n",
       "4  2020-01-08  3480.0   3.9  85.8   2.3"
      ]
     },
     "execution_count": 22,
     "metadata": {},
     "output_type": "execute_result"
    }
   ],
   "source": [
    "df.head()"
   ]
  },
  {
   "cell_type": "code",
   "execution_count": 23,
   "id": "5a355ff9-d431-4949-9938-7aff31d89655",
   "metadata": {},
   "outputs": [
    {
     "name": "stdout",
     "output_type": "stream",
     "text": [
      "(32, 2) (32,) (9, 2) (9,)\n"
     ]
    }
   ],
   "source": [
    "from sklearn.model_selection import train_test_split\n",
    "X = df.iloc[:,2:-1]\n",
    "y = df['가격']\n",
    "X_train, X_test, y_train, y_test = \\\n",
    "    train_test_split(X, y, test_size=0.2, random_state=0)\n",
    "print(X_train.shape, y_train.shape, X_test.shape, y_test.shape)"
   ]
  },
  {
   "cell_type": "code",
   "execution_count": 24,
   "id": "fa91201a-9c63-41f1-99e4-42f2fc3b353a",
   "metadata": {},
   "outputs": [],
   "source": [
    "from sklearn.ensemble import RandomForestRegressor\n",
    "from sklearn.ensemble import GradientBoostingRegressor\n",
    "from sklearn.linear_model import LinearRegression\n",
    "from sklearn.linear_model import ElasticNet"
   ]
  },
  {
   "cell_type": "code",
   "execution_count": 25,
   "id": "bc88f7c0-9db6-42fa-a17c-6367a3b04965",
   "metadata": {},
   "outputs": [],
   "source": [
    "rfr = RandomForestRegressor()\n",
    "gbr = GradientBoostingRegressor()\n",
    "eln = ElasticNet()\n",
    "lr = LinearRegression()"
   ]
  },
  {
   "cell_type": "code",
   "execution_count": 26,
   "id": "fe8e74e5-2699-46c2-ad99-08a51be8e6c4",
   "metadata": {},
   "outputs": [
    {
     "data": {
      "text/plain": [
       "LinearRegression()"
      ]
     },
     "execution_count": 26,
     "metadata": {},
     "output_type": "execute_result"
    }
   ],
   "source": [
    "rfr.fit(X_train, y_train)\n",
    "gbr.fit(X_train, y_train)\n",
    "eln.fit(X_train, y_train)\n",
    "lr.fit(X_train, y_train)"
   ]
  },
  {
   "cell_type": "code",
   "execution_count": 27,
   "id": "b6f81df7-9341-4063-b2dd-f49c7728f059",
   "metadata": {},
   "outputs": [],
   "source": [
    "from sklearn.metrics import mean_absolute_error\n",
    "from sklearn.metrics import mean_squared_error\n",
    "from sklearn.metrics import r2_score"
   ]
  },
  {
   "cell_type": "code",
   "execution_count": 31,
   "id": "727eff50-d3fc-4e04-b9da-8ce136a2f71f",
   "metadata": {},
   "outputs": [],
   "source": [
    "def performance_evaluation(y_test, y_pred, X_test):\n",
    "    mae = mean_absolute_error(y_test, y_pred)\n",
    "    mse = mean_squared_error(y_test, y_pred)\n",
    "    rmse = mean_squared_error(y_test, y_pred, squared=False)\n",
    "    r2 = r2_score(y_test, y_pred)\n",
    "    adj_r2 = 1-(1-r2)*(len(y_test)-1)/(len(y_test)-X_test.shape[1]-1)\n",
    "    print('MAE: {}'.format(round(mae, 2)))\n",
    "    print('MSE: {}'.format(round(mse, 2)))\n",
    "    print('RMSE: {}'.format(round(rmse, 2)))\n",
    "    print('R2: {}'.format(round(r2, 2)))"
   ]
  },
  {
   "cell_type": "code",
   "execution_count": 32,
   "id": "a796bd28-9727-402f-8ef6-7d35d3f5db28",
   "metadata": {},
   "outputs": [
    {
     "name": "stdout",
     "output_type": "stream",
     "text": [
      "MAE: 316.73\n",
      "MSE: 190757.86\n",
      "RMSE: 436.76\n",
      "R2: 0.17\n"
     ]
    }
   ],
   "source": [
    "# RandomForestRegressor 성능 평가\n",
    "y_pred = rfr.predict(X_test)\n",
    "performance_evaluation(y_test, y_pred, X_test)"
   ]
  },
  {
   "cell_type": "code",
   "execution_count": 35,
   "id": "5556447a-ca3f-4d70-912d-b3adbe97a3d9",
   "metadata": {},
   "outputs": [
    {
     "name": "stdout",
     "output_type": "stream",
     "text": [
      "MAE: 481.78\n",
      "MSE: 384734.38\n",
      "RMSE: 620.27\n",
      "R2: -0.67\n"
     ]
    }
   ],
   "source": [
    "# GradientBoostingRegressor 성능 평가\n",
    "y_pred = gbr.predict(X_test)\n",
    "performance_evaluation(y_test, y_pred, X_test)"
   ]
  },
  {
   "cell_type": "code",
   "execution_count": 36,
   "id": "c55fc5f4-9817-47b9-8fe9-6601bff48949",
   "metadata": {},
   "outputs": [
    {
     "name": "stdout",
     "output_type": "stream",
     "text": [
      "MAE: 409.98\n",
      "MSE: 254111.37\n",
      "RMSE: 504.09\n",
      "R2: -0.11\n"
     ]
    }
   ],
   "source": [
    "# ElasticNet 성능 평가\n",
    "y_pred = eln.predict(X_test)\n",
    "performance_evaluation(y_test, y_pred, X_test)"
   ]
  },
  {
   "cell_type": "code",
   "execution_count": 37,
   "id": "5823da55-4390-429a-88bc-d5000e2f6a25",
   "metadata": {},
   "outputs": [
    {
     "name": "stdout",
     "output_type": "stream",
     "text": [
      "MAE: 409.62\n",
      "MSE: 253591.99\n",
      "RMSE: 503.58\n",
      "R2: -0.1\n"
     ]
    }
   ],
   "source": [
    "# LinearRegression 성능 평가\n",
    "y_pred = lr.predict(X_test)\n",
    "performance_evaluation(y_test, y_pred, X_test)"
   ]
  },
  {
   "cell_type": "code",
   "execution_count": null,
   "id": "8304ae32-751f-4b72-98ce-3a14f9bafe7a",
   "metadata": {},
   "outputs": [],
   "source": []
  }
 ],
 "metadata": {
  "kernelspec": {
   "display_name": "Python 3 (ipykernel)",
   "language": "python",
   "name": "python3"
  },
  "language_info": {
   "codemirror_mode": {
    "name": "ipython",
    "version": 3
   },
   "file_extension": ".py",
   "mimetype": "text/x-python",
   "name": "python",
   "nbconvert_exporter": "python",
   "pygments_lexer": "ipython3",
   "version": "3.10.9"
  }
 },
 "nbformat": 4,
 "nbformat_minor": 5
}
